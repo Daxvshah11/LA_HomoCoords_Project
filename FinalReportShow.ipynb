{
 "cells": [
  {
   "attachments": {},
   "cell_type": "markdown",
   "metadata": {},
   "source": [
    "<h1 style=\"font-size:70px; color:#fcd703;\">HOMOGENOUS COORDINATES</h1>"
   ]
  },
  {
   "attachments": {},
   "cell_type": "markdown",
   "metadata": {},
   "source": [
    "* Homogenous co-ordinates are a mathematical representation used in projective geometry & Computer Graphics\n",
    "\n",
    "* They provide a way to represent points, vectors & transformations in a uniform manner\n",
    "\n",
    "* We extend the Cartesian system by using an additional coordinate usually denoted as `\"w\"`\n",
    "\n",
    "A point in Homogenous system is represented as \n",
    "$$(x, y, z, w)$$ \n",
    "$$where\\ (x, y, z)\\ are\\ the\\ cartesian\\ coordinates$$\n",
    "\n",
    "`\"w\"` is called the `\"Scaling factor\"`"
   ]
  },
  {
   "attachments": {},
   "cell_type": "markdown",
   "metadata": {},
   "source": [
    "# GEOMETRIC TRANSFORMATIONS"
   ]
  },
  {
   "attachments": {},
   "cell_type": "markdown",
   "metadata": {},
   "source": [
    "* There are several types of geometric transformations:\n",
    "    * `Translation`\n",
    "    * `Rotation`\n",
    "    * `Scaling`\n",
    "    * `Shearing`\n",
    "    * `Reflection`\n",
    "    * `Projection`\n",
    "<br>\n",
    "<br>\n",
    "\n",
    "* These tranformations can be applied individually or in combinations in order to achieve better effects\n",
    "\n",
    "* They are widely used in fields like `Computer Graphics`, `Compiter Vision`, `Designing & modelling` etc.\n",
    "\n",
    "* We will be particularly discussing about translation, rotation and scaling"
   ]
  },
  {
   "attachments": {},
   "cell_type": "markdown",
   "metadata": {},
   "source": [
    "# TRANSLATION"
   ]
  },
  {
   "attachments": {},
   "cell_type": "markdown",
   "metadata": {},
   "source": [
    "* Translation refers to moving of an object in a certain direction without changing its size/shape\n",
    "\n",
    "* It is done by adding constant values to the coordinates of the object"
   ]
  },
  {
   "attachments": {},
   "cell_type": "markdown",
   "metadata": {},
   "source": [
    "Lets say working with a 2D system, we have an object's coordinates as $$(x, y)$$\n",
    "\n",
    "Thus, in Homogenous coordinates, we can represent it as $$(x, y, 1)\\ =\\ V$$\n",
    "\n",
    "Further, lets say we want to translate this position vector by 2 units in +x and 1 unit in -y \n",
    "\n",
    "Then we can make a respective \"translation matrix\" using the homogenous coordinates called T such that:\n",
    "\n",
    "V*T = V'\n",
    "(where V' represents the final homogenous coordinates after translation)\n",
    "\n",
    "Thus, we can represent T as:\n",
    "[1   0   0]\n",
    "|0   1   0|\n",
    "[tx  ty  1]         here, (tx = 2) & (ty = -1)\n",
    "\n",
    "\n",
    "This makes the final equation for a single translation as:\n",
    "        [1   0   0]\n",
    "[x   y   1]|0   1   0| = [x'  y'  1]\n",
    "        [tx  ty  1]\n",
    "\n",
    "\n",
    "Similarly, if we have to perform 3 translations, namely T1 T2 and T3 then we can write the final homo-coords as V':\n",
    "        V*Tf = V'\n",
    "\n",
    "Here, Tf = (T1*T2*T3)\n",
    "And each Ti represents the respective translation matrix for ith translation"
   ]
  },
  {
   "attachments": {},
   "cell_type": "markdown",
   "metadata": {},
   "source": [
    "# ROTATION"
   ]
  },
  {
   "attachments": {},
   "cell_type": "markdown",
   "metadata": {},
   "source": [
    "        Rotation as a transformation involves rotating an object around a fixed point or axis\n",
    "        \n",
    "        Size/shape of the object is preserved"
   ]
  },
  {
   "attachments": {},
   "cell_type": "markdown",
   "metadata": {},
   "source": [
    "        Very much similar to translation, a rotation can also be represented in homogenous coordinates as a matrix\n",
    "\n",
    "            [cosT   sinT   0]\n",
    "        R = |-sinT  cosT   0|           (T represents theta ie. the angle by which object is rotated)\n",
    "            [0      0      1]\n",
    "\n",
    "        Thus, if an object with homogenous coordinates [x   y   1] is to be rotated by theta angle:\n",
    "                V*R = V'                (V' represents final homogenous coordinates)\n",
    "\n",
    "                   [cosT   sinT   0]\n",
    "        [x   y   1]|-sinT  cosT   0| = [x'  y'  1]\n",
    "                   [0      0      1]\n",
    "\n",
    "\n",
    "        And also similar to translation, multiple rotations can be handled by finding a FINAL rotation matrix which is the multiplied with the homogenous coordinates"
   ]
  },
  {
   "attachments": {},
   "cell_type": "markdown",
   "metadata": {},
   "source": [
    "# SCALING"
   ]
  },
  {
   "attachments": {},
   "cell_type": "markdown",
   "metadata": {},
   "source": [
    "        Scaling leads to change in the \"size\" if the object by either enlarging or shrinking the object\n",
    "\n",
    "        This achieved by multiplying the coordinates of the vector by a scalar value"
   ]
  },
  {
   "attachments": {},
   "cell_type": "markdown",
   "metadata": {},
   "source": [
    "        Scaling is also done in the same way. We can denote the scaling factors in a matrix form as:\n",
    "                [Sx  0   0]\n",
    "                |0   Sy  0|             (Sx = scaling along x axis)\n",
    "                [0   0   1]             (Sy = scaling along y axis)\n",
    "\n",
    "\n",
    "        Thus, say a position coordinate [x   y   1] undergoing scaling \n",
    "        It is enlarged to twice its size along x axis while halved along y axis\n",
    "        So Sx = 2 while Sy = 0.5\n",
    "\n",
    "                   [Sx  0   0]\n",
    "        [x   y   1]|0   Sy  0| = [x'  y'  1]\n",
    "                   [0   0   1]\n",
    "\n",
    "        The above calculation provides us with the final homogenoues coordinates of the object after scaling"
   ]
  },
  {
   "attachments": {},
   "cell_type": "markdown",
   "metadata": {},
   "source": [
    "# EXAMPLE"
   ]
  },
  {
   "attachments": {},
   "cell_type": "markdown",
   "metadata": {},
   "source": [
    "### Question"
   ]
  },
  {
   "attachments": {},
   "cell_type": "markdown",
   "metadata": {},
   "source": [
    "        Say there is a square ABCD such that A(1,1) B(3,1) C(3,3) D(1,3) and its centre is at E(2,2)\n",
    "\n",
    "        We need to perform a set of geometrical transformations on the square\n",
    "\n",
    "        > The final object should be a square with thrice its original side length \n",
    "        > It sholuld also be rotated 90 degrees clockwise\n",
    "        > Its centre should stay at same E(2,2)\n",
    "\n",
    "        Find the resultant \"transformation matrix\" for the above changes and also find all the final coordinates"
   ]
  },
  {
   "attachments": {},
   "cell_type": "markdown",
   "metadata": {},
   "source": [
    "### Solution"
   ]
  },
  {
   "attachments": {},
   "cell_type": "markdown",
   "metadata": {},
   "source": [
    "        We first need to plan it step-wise:\n",
    "                1) translating the sqaure such that the centre is at Origin\n",
    "                2) scaling the square to 3 times its size in x as well as y axis\n",
    "                3) rotating the whole square by -90 deg (since clockwise rotation)\n",
    "                4) translating it back such that new centre at original (2,2) coordinates\n",
    "\n",
    "        \n",
    "        Thus, there will be T1 matirix for step1 translation, S for step2 scaling, R for step3 rotation and then finally T2 for step4 translation\n",
    "\n",
    "        Putting down values of the matrices mentioned above:\n",
    "\n",
    "                     [1   0   0]\n",
    "                T1 = |0   1   0|\n",
    "                     [-2  -2  1]\n",
    "\n",
    "                    [3   0   0]\n",
    "                S = |0   3   0|\n",
    "                    [0   0   1]\n",
    "\n",
    "                    [0   -1  0]\n",
    "                R = |1   0   0|\n",
    "                    [0   0   1]\n",
    "\n",
    "                     [1   0   0]\n",
    "                T2 = |0   1   0|\n",
    "                     [2   2   1]\n",
    "\n",
    "        \n",
    "        Now, we can also represent the 4 coordinates altogether in one single matrix to reduce the number of steps\n",
    "\n",
    "            [A]                                                             [1   1   1]\n",
    "        M = |B|      or in homogenous coordinates, it is basically      M = |3   1   1|\n",
    "            |C|                                                             |3   3   1|\n",
    "            [D]                                                             [1   3   1]\n",
    "\n",
    "        \n",
    "        Further, we can find the resultant transformation matrix:\n",
    "            result = T1*S*R*T2\n",
    "\n",
    "                     [0   -3  0]\n",
    "            result = |3   0   0|\n",
    "                     [-4  8   1]\n",
    "\n",
    "\n",
    "        Last step in the method is to find the final coordinate matrix M'\n",
    "\n",
    "                M*result = M'\n",
    "\n",
    "\n",
    "            [1   1   1] * [0   -3  0]   [-1  5   1]\n",
    "            |3   1   1|   |3   0   0| = |-1  -1  1| = M'\n",
    "            |3   3   1|   [-4  8   1]   |5   -1  1|\n",
    "            [1   3   1]                 [5   5   1]\n",
    "\n",
    "\n",
    "        Hence, from the final coordinate matrix M' that is formed, we can get the new cartesian coordinates of the vertices\n",
    "\n",
    "        A'(-1, 5)\n",
    "        B'(-1, -1)\n",
    "        C'(5, -1)\n",
    "        D'(5, 5)\n",
    "        \n",
    "        While, if we find the centre if the new coordinates, it comes out to still be E(2, 2)\n",
    "\n",
    "        So this also proves that our method has worked. \n",
    "        \n",
    "        Plus, intial edge length was 2\n",
    "        Whereas now, it is 6 so the whole square is scaled to thrice its size"
   ]
  },
  {
   "attachments": {},
   "cell_type": "markdown",
   "metadata": {},
   "source": [
    "### CODE (animation)"
   ]
  },
  {
   "cell_type": "code",
   "execution_count": null,
   "metadata": {},
   "outputs": [
    {
     "ename": "",
     "evalue": "",
     "output_type": "error",
     "traceback": [
      "\u001b[1;31mThe kernel failed to start as '_psutil_linux' could not be imported from 'most likely due to a circular import'.\n",
      "\n",
      "\u001b[1;31mClick <a href='https://aka.ms/kernelFailuresModuleImportErrFromFile'>here</a> for more info."
     ]
    }
   ],
   "source": [
    "import numpy as np\n",
    "import matplotlib.pyplot as plt\n",
    "import matplotlib.animation as animation\n",
    "\n",
    "def animate(i):\n",
    "    ax.clear()\n",
    "    ax.set_xlim(-5, 5)\n",
    "    ax.set_ylim(-5, 5)\n",
    "\n",
    "    # Original square coordinates\n",
    "    coords = np.array([[1, 1], [3, 1], [3, 3], [1, 3]])\n",
    "\n",
    "    # Translate to origin\n",
    "    translated_coords = coords - np.mean(coords, axis=0)\n",
    "\n",
    "    # Scale the square\n",
    "    scaled_coords = translated_coords * 3\n",
    "\n",
    "    # Rotate 90 degrees clockwise\n",
    "    theta = np.radians(90)\n",
    "    rotation_matrix = np.array([[np.cos(theta), -np.sin(theta)], [np.sin(theta), np.cos(theta)]])\n",
    "    rotated_coords = scaled_coords.dot(rotation_matrix)\n",
    "\n",
    "    # Translate back to (2, 2)\n",
    "    final_coords = rotated_coords + np.array([2, 2])\n",
    "\n",
    "    # Plot the square\n",
    "    ax.plot(final_coords[:, 0], final_coords[:, 1], color='blue')\n",
    "    ax.fill(final_coords[:, 0], final_coords[:, 1], color='blue', alpha=0.3)\n",
    "\n",
    "fig, ax = plt.subplots()\n",
    "ani = animation.FuncAnimation(fig, animate, frames=100, interval=50)\n",
    "\n",
    "plt.show()\n"
   ]
  }
 ],
 "metadata": {
  "language_info": {
   "name": "python"
  },
  "orig_nbformat": 4
 },
 "nbformat": 4,
 "nbformat_minor": 2
}
