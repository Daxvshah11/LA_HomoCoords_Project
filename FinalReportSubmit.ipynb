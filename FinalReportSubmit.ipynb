{
 "cells": [
  {
   "attachments": {},
   "cell_type": "markdown",
   "metadata": {
    "tags": []
   },
   "source": [
    "<p style=\"color:#03b5fc; font-size:60px;\">HOMOGENOUS COORDINATES</p>"
   ]
  },
  {
   "attachments": {},
   "cell_type": "markdown",
   "metadata": {},
   "source": [
    "* Homogenous co-ordinates are a mathematical representation used in projective geometry & Computer Graphics\n",
    "\n",
    "* They provide a way to represent points, vectors & transformations in a uniform manner\n",
    "\n",
    "* We extend the Cartesian system by using an additional coordinate usually denoted as `\"w\"`\n",
    "\n",
    "A point in Homogenous system is represented as \n",
    "$$(x, y, z, w)$$ \n",
    "$$where\\ (x, y, z)\\ are\\ the\\ cartesian\\ coordinates$$\n",
    "\n",
    "`\"w\"` is called the `\"Scaling factor\"`"
   ]
  },
  {
   "attachments": {},
   "cell_type": "markdown",
   "metadata": {},
   "source": [
    "<p style=\"color:#03b5fc; font-size:60px;\">GEOMETRIC TRANSFORMATIONS</p>"
   ]
  },
  {
   "attachments": {},
   "cell_type": "markdown",
   "metadata": {},
   "source": [
    "* There are several types of geometric transformations:\n",
    "    * `Translation`\n",
    "    * `Rotation`\n",
    "    * `Scaling`\n",
    "    * `Shearing`\n",
    "    * `Reflection`\n",
    "    * `Projection`\n",
    "<br>\n",
    "<br>\n",
    "\n",
    "* These tranformations can be applied individually or in combinations in order to achieve better effects\n",
    "\n",
    "* They are widely used in fields like `Computer Graphics`, `Compiter Vision`, `Designing & modelling` etc.\n",
    "\n",
    "* We will be particularly discussing about translation, rotation and scaling"
   ]
  },
  {
   "attachments": {},
   "cell_type": "markdown",
   "metadata": {},
   "source": [
    "<p style=\"color:#03b5fc; font-size:60px;\">TRANSLATION</p>"
   ]
  },
  {
   "attachments": {},
   "cell_type": "markdown",
   "metadata": {},
   "source": [
    "* Translation refers to moving of an object in a certain direction without changing its `size/shape`\n",
    "\n",
    "* It is done by adding constant values to the coordinates of the object"
   ]
  },
  {
   "attachments": {},
   "cell_type": "markdown",
   "metadata": {},
   "source": [
    "Lets say working with a 2D system, we have an object's coordinates as $\\begin{pmatrix}x & y\\\\\\end{pmatrix}$\n",
    "<br>\n",
    "<br>\n",
    "<br>\n",
    "Thus, in Homogenous coordinates, we can represent it as $\\begin{pmatrix}x & y & 1\\\\\\end{pmatrix} = V$\n",
    "<br>\n",
    "<br>\n",
    "<br>\n",
    "Further, lets say we want to translate this position vector by $2\\ units\\ in\\ +x\\ and\\ 1\\ unit\\ in\\ -y$ \n",
    "<br>\n",
    "<br>\n",
    "<br>\n",
    "Then we can make a respective `\"translation matrix\"` using the homogenous coordinates called `T` such that:\n",
    "\n",
    "$$V*T = V'$$\n",
    "\n",
    "$$(where\\ V'\\ represents\\ the\\ final\\ homogenous\\ coordinates\\ after\\ translation)$$\n",
    "\n",
    "Thus, we can represent `T` as:\n",
    "$$T = \\begin{pmatrix}\n",
    "1 & 0 & 0 \\\\\n",
    "0 & 1 & 0 \\\\\n",
    "t_x & t_y & 1\\\\\n",
    "\\end{pmatrix}$$\n",
    "\n",
    "<br>\n",
    "\n",
    "$$here,\\ (t_x = 2)\\ \\&\\ (t_y = -1)$$\n",
    "\n",
    "\n",
    "This makes the final equation for a single translation as:\n",
    "\n",
    "$$\\begin{pmatrix}\n",
    "x & y & 1 \\\\\n",
    "\\end{pmatrix}\n",
    "\\begin{pmatrix}\n",
    "1 & 0 & 0 \\\\\n",
    "0 & 1 & 0 \\\\\n",
    "t_x & t_y & 1\\\\\n",
    "\\end{pmatrix} = \n",
    "\\begin{pmatrix}\n",
    "x' & y' & 1 \\\\\n",
    "\\end{pmatrix}$$\n",
    "\n",
    "<br>\n",
    "\n",
    "Similarly, if we have to perform 3 translations, namely $T_1,\\ T_2\\ and\\ T_3$ then we can write the final homo-coords as V':\n",
    "\n",
    "$$V*T_f = V'$$\n",
    "\n",
    "Here, $T_f\\ =\\ (T_1*T_2*T_3)$\n",
    "\n",
    "And each $T_i$ represents the respective translation matrix for $i^{th}$ translation"
   ]
  },
  {
   "attachments": {},
   "cell_type": "markdown",
   "metadata": {},
   "source": [
    "<p style=\"color:#03b5fc; font-size:60px;\">ROTATION</p>"
   ]
  },
  {
   "attachments": {},
   "cell_type": "markdown",
   "metadata": {},
   "source": [
    "* Rotation as a transformation involves rotating an object around a fixed point or axis\n",
    "\n",
    "* `Size/shape` of the object is preserved"
   ]
  },
  {
   "attachments": {},
   "cell_type": "markdown",
   "metadata": {},
   "source": [
    "Very much similar to translation, a rotation can also be represented in homogenous coordinates as a matrix\n",
    "\n",
    "$$\n",
    "R = \\begin{pmatrix}\n",
    "cos\\theta & sin\\theta & 0 \\\\\n",
    "-sin\\theta & cos\\theta & 0 \\\\\n",
    "0 & 0 & 1 \\\\\n",
    "\\end{pmatrix}$$\n",
    "\n",
    "$$\\theta\\ represents\\ angle\\ by\\ which\\ it\\ is\\ rotated$$\n",
    "\n",
    "<br>\n",
    "\n",
    "Thus, if an object with homogenous coordinates $\\begin{pmatrix}x & y & 1\\\\\\end{pmatrix}$ is to be rotated by $\\theta$ angle:\n",
    "\n",
    "$$V*R = V'$$\n",
    "$$(V'\\ represents\\ final\\ homogenous\\ coordinates)$$\n",
    "\n",
    "<br>\n",
    "\n",
    "$$\\begin{pmatrix}\n",
    "x & y & 1\\\\\n",
    "\\end{pmatrix}\n",
    "\\begin{pmatrix}\n",
    "cos\\theta & sin\\theta & 0\\\\\n",
    "-sin\\theta & cos\\theta & 0\\\\\n",
    "0 & 0 & 1\\\\\n",
    "\\end{pmatrix} = \n",
    "\\begin{pmatrix}\n",
    "x' & y' & 1\\\\\n",
    "\\end{pmatrix}$$\n",
    "\n",
    "<br>\n",
    "\n",
    "And also similar to translation, multiple rotations can be handled by finding a `FINAL` rotation matrix which is then multiplied with the homogenous coordinates"
   ]
  },
  {
   "attachments": {},
   "cell_type": "markdown",
   "metadata": {},
   "source": [
    "<p style=\"color:#03b5fc; font-size:60px;\">SCALING</p>"
   ]
  },
  {
   "attachments": {},
   "cell_type": "markdown",
   "metadata": {},
   "source": [
    "* Scaling leads to change in the `size` if the object by either enlarging or shrinking the object\n",
    "\n",
    "* This achieved by multiplying the coordinates of the vector by a scalar value"
   ]
  },
  {
   "attachments": {},
   "cell_type": "markdown",
   "metadata": {},
   "source": [
    "Scaling is also done in the same way. We can denote the scaling factors in a matrix form as:\n",
    "\n",
    "$$\n",
    "S = \\begin{pmatrix}\n",
    "S_x & 0 & 0\\\\\n",
    "0 & S_y & 0\\\\\n",
    "0 & 0 & 1\\\\\n",
    "\\end{pmatrix}$$\n",
    "$$(S_x = scaling\\ along\\ x\\ axis)$$\n",
    "$$(S_y = scaling\\ along\\ y\\ axis)$$\n",
    "\n",
    "<br>\n",
    "\n",
    "Thus, say a position coordinate $\\begin{pmatrix}x & y & 1\\\\\\end{pmatrix}$ is undergoing scaling\n",
    "\n",
    "\n",
    "It is enlarged to twice its size along $x\\ axis$ while halved along $y\\ axis$\n",
    "\n",
    "\n",
    "\n",
    "So $S_x = 2$ while $S_y = 0.5$\n",
    "\n",
    "$$\n",
    "\\begin{pmatrix}\n",
    "x & y & 1\\\\\n",
    "\\end{pmatrix}\n",
    "\\begin{pmatrix}\n",
    "S_x & 0 & 0\\\\\n",
    "0 & S_y & 0\\\\\n",
    "0 & 0 & 1\\\\\n",
    "\\end{pmatrix} = \n",
    "\\begin{pmatrix}\n",
    "x' & y' & 1\\\\\n",
    "\\end{pmatrix}\n",
    "$$\n",
    "\n",
    "<br>\n",
    "\n",
    "The above calculation provides us with the final homogenoues coordinates of the object after scaling"
   ]
  },
  {
   "attachments": {},
   "cell_type": "markdown",
   "metadata": {},
   "source": [
    "<p style=\"color:#03b5fc; font-size:60px;\">EXAMPLE</p>"
   ]
  },
  {
   "attachments": {},
   "cell_type": "markdown",
   "metadata": {},
   "source": [
    "<p style=\"color:#73fc03; font-size:40px;\">Question</p>"
   ]
  },
  {
   "attachments": {},
   "cell_type": "markdown",
   "metadata": {},
   "source": [
    "Say there is a square ABCD such that $A(1,1)$ $B(3,1)$ $C(3,3)$ $D(1,3)$ and its centre is at $E(2,2)$\n",
    "\n",
    "We need to perform a set of geometrical transformations on the square\n",
    "\n",
    "* The final object should be a square with thrice its original side length \n",
    "* It sholuld also be rotated $90 \\degree$ clockwise\n",
    "* Its centre should stay at same $E(2,2)$\n",
    "\n",
    "Find the resultant `\"transformation matrix\"` for the above changes and also find all the final coordinates"
   ]
  },
  {
   "attachments": {},
   "cell_type": "markdown",
   "metadata": {},
   "source": [
    "<p style=\"color:#73fc03; font-size:40px;\">Solution</p>"
   ]
  },
  {
   "attachments": {},
   "cell_type": "markdown",
   "metadata": {},
   "source": [
    "* We first need to plan it step-wise:\n",
    "\n",
    "    * translating the sqaure such that the centre is at Origin\n",
    "    * scaling the square to 3 times its size in x as well as y axis\n",
    "    * rotating the whole square by -90 deg (since clockwise rotation)\n",
    "    * translating it back such that new centre at original (2,2) coordinates\n",
    "\n",
    "<br>\n",
    "\n",
    "* Thus, there will be $T_1$ matirix for $step_1$ `translation`, $S$ for $step_2$ `scaling`, $R$ for $step_3$ `rotation` and then finally $T_2$ for $step_4$ `translation`\n",
    "\n",
    "<br>\n",
    "\n",
    "Putting down values of the matrices mentioned above:\n",
    "\n",
    "$$\n",
    "T_1 = \\begin{pmatrix}\n",
    "1 & 0 & 0\\\\\n",
    "0 & 1 & 0\\\\\n",
    "-2 & -2 & 1\\\\\n",
    "\\end{pmatrix}$$\n",
    "\n",
    "$$\n",
    "S = \\begin{pmatrix}\n",
    "3 & 0 & 0\\\\\n",
    "0 & 3 & 0\\\\\n",
    "0 & 0 & 1\\\\\n",
    "\\end{pmatrix}$$\n",
    "\n",
    "$$\n",
    "R = \\begin{pmatrix}\n",
    "0 & -1 & 0\\\\\n",
    "1 & 0 & 0\\\\\n",
    "0 & 0 & 1\\\\\n",
    "\\end{pmatrix}$$\n",
    "\n",
    "$$\n",
    "T_2 = \\begin{pmatrix}\n",
    "1 & 0 & 0\\\\\n",
    "0 & 1 & 0\\\\\n",
    "2 & 2 & 1\\\\\n",
    "\\end{pmatrix}$$\n",
    "\n",
    "<br>\n",
    "\n",
    "Now, we can also represent the 4 coordinates altogether in one single matrix to reduce the number of steps\n",
    "\n",
    "$$\n",
    "M = \\begin{pmatrix}\n",
    "A\\\\\n",
    "B\\\\\n",
    "C\\\\\n",
    "D\\\\\n",
    "\\end{pmatrix}$$\n",
    "\n",
    "<br>\n",
    "\n",
    "$$after\\ expanding\\ M = \n",
    "\\begin{pmatrix}\n",
    "1 & 1 & 1\\\\\n",
    "3 & 1 & 1\\\\\n",
    "1 & 3 & 1\\\\\n",
    "\\end{pmatrix}$$\n",
    "\n",
    "<br>\n",
    "\n",
    "Further, we can find the resultant transformation matrix:\n",
    "    $$result = T_1*S*R*T_2$$\n",
    "    \n",
    "$$\n",
    "result = \\begin{pmatrix}\n",
    "0 & -3 & 0\\\\\n",
    "3 & 0 & 0\\\\\n",
    "-4 & 8 & 1\\\\\n",
    "\\end{pmatrix}$$\n",
    "\n",
    "<br>\n",
    "\n",
    "Last step in the method is to find the final coordinate matrix $M'$\n",
    "\n",
    "$$M*result = M'$$\n",
    "\n",
    "$$\n",
    "\\begin{pmatrix}\n",
    "1 & 1 & 1\\\\\n",
    "3 & 1 & 1\\\\\n",
    "3 & 3 & 1\\\\\n",
    "1 & 3 & 1\\\\\n",
    "\\end{pmatrix}\n",
    "\\begin{pmatrix}\n",
    "0 & -3 & 0\\\\\n",
    "3 & 0 & 0\\\\\n",
    "-4 & 8 & 1\\\\\n",
    "\\end{pmatrix} = \n",
    "\\begin{pmatrix}\n",
    "-1 & 5 & 1\\\\\n",
    "-1 & -1 & 1\\\\\n",
    "5 & -1 & 1\\\\\n",
    "5 & 5 & 1\\\\\n",
    "\\end{pmatrix} = M'\n",
    "$$\n",
    "\n",
    "<br>\n",
    "\n",
    "Hence, from the final coordinate matrix $M'$ that is formed, we can get the new cartesian coordinates of the vertices\n",
    "\n",
    "$A'(-1, 5)\\ B'(-1, -1)\\ C'(5, -1)\\ D'(5, 5)$\n",
    "\n",
    "<br>\n",
    "\n",
    "While, if we find the centre of the new coordinates, it still comes out to be $E(2, 2)$\n",
    "\n",
    "So this also proves that our method has worked.\n",
    "\n",
    "<br>\n",
    "\n",
    "Plus, intial edge length was 2\n",
    "\n",
    "Whereas now, it is 6 so the whole square is scaled to thrice its size"
   ]
  },
  {
   "attachments": {},
   "cell_type": "markdown",
   "metadata": {},
   "source": [
    "<p style=\"color:#03b5fc; font-size:60px;\">WHY HOMOGENOUS COORDINATES?</p>"
   ]
  },
  {
   "attachments": {},
   "cell_type": "markdown",
   "metadata": {},
   "source": [
    "* Consider a set of 2D points that need to be rotated about an axis by a certain angle. Such type of `Geometric transformations` are very much needed in today's world in a variety of fields like Computer Graphics, Robotics, 3D modeling, Medical industry, blueprint designing, etc.\n",
    "\n",
    "* Thus, we can use Homogenous Coordinates in these fields in order to simplify the working mechanisms while motivating us to create and innovate better ideas & concepts using such mathematical tools.\n",
    "\n",
    "* Further, we will dive deeper into some of the fields, namely:\n",
    "    * `Computer Graphics`\n",
    "    * `3D modeling`\n",
    "    * `Medical industry`"
   ]
  },
  {
   "attachments": {},
   "cell_type": "markdown",
   "metadata": {},
   "source": [
    "<p style=\"color:#03b5fc; font-size:60px;\">COMPUTER GRAPHICS</p>"
   ]
  },
  {
   "attachments": {},
   "cell_type": "markdown",
   "metadata": {},
   "source": [
    "* Homogenous coordinates play a vital role in Computer Graphics as they are used to like a unified framework for representing points, lines and transformations\n",
    "\n",
    "* They can be used to create stunning visual effects, scenes & animations\n",
    "\n",
    "* They enable efficient rendering of 3D objects as well as handling of prespective projection\n",
    "\n",
    "The above are some of the numerous concepts in Computer Graphics (CG).\n",
    "\n",
    "We will now discuss about a similar concept in Computer Graphics called `Heirarchical Modeling`."
   ]
  },
  {
   "attachments": {},
   "cell_type": "markdown",
   "metadata": {},
   "source": [
    "<p style=\"color:#03b5fc; font-size:60px;\">HEIRARCHICAL MODELING</p>"
   ]
  },
  {
   "attachments": {},
   "cell_type": "markdown",
   "metadata": {},
   "source": [
    "Heirarchical modeling refers to the method of building & representing complex scenes from very simple shapes.\n",
    "\n",
    "The key is that a complex object can be made up of relatively simpler objects, which in turn can be made using even simpler objects and so on.... until it all bottoms out to `SIMPLE GEOMETRIC SHAPES` like circles, rectangles etc."
   ]
  },
  {
   "attachments": {},
   "cell_type": "markdown",
   "metadata": {},
   "source": [
    "<p style=\"color:#73fc03; font-size:40px;\">Application of HomoCoords</p>"
   ]
  },
  {
   "attachments": {},
   "cell_type": "markdown",
   "metadata": {},
   "source": [
    "* Major motivation for introducing a new coordinate system is that it should make it possible for us to use the system that is most natural to the scene that you want to draw \n",
    "\n",
    "* We can extend this idea to individual objects in a scene: when drawing an object, use the coordinate system that is most natural for that particular object\n",
    "\n",
    "* For selecting the system, it is most natural for an object to be cantred at Origin $(0, 0)$ or use it as a convenient reference point. Thus, we can proceed with that system for all the objects included in a scene initially\n",
    "\n",
    "* Further, at the time of merging all the objects altogether in the scene, we can simply use `scaling`, `rotation` followed by `translation` geometric transformations\n",
    "\n",
    "* This is done in order to set their size, orientation & position according to the scene's requirement. This is also known as $Modeling\\ Tranformation$\n",
    "\n",
    "* The transformations are done in the same order as mentioned since first 2 operations dont change the reference point. Thus, the changing of reference point could be done at the last without any discrepancies\n",
    "\n",
    "<br>\n",
    "\n",
    "The modeling transformations that are used to place an object in the scene should not affect other objects in the scene. So to limit their application to just the one object, we can save the current transformation before starting work on the object and restore it afterwards\n",
    "\n",
    "Let's suppose here that there are subroutines $saveTransform()$ and $restoreTransform()$ for performing those tasks\n",
    "\n",
    "Here, `saveTransform` will make a copy of the modeling transformation that is currently in effect and store that copy while it does not change the current transformation \n",
    "\n",
    "Later, when `restoreTransform` is called, it will retrieve that copy and will replace the current modeling transform with the retrieved transform.\n",
    "\n",
    "Typical code for drawing an object will then have the form:\n",
    "\n",
    "$saveTransform()\\\\$\n",
    "$translate(dx,dy)\\\\$\n",
    "$rotate(r)\\\\$\n",
    "$scale(sx,sy)\\\\$\n",
    "$     .\\\\$\n",
    "$     .\\ ->draw\\ the\\ object\\ with\\ natural\\ coordinates\\\\$\n",
    "$     .\\\\$\n",
    "$restoreTransform()\\\\$\n",
    "\n",
    "<br>\n",
    "<br>\n",
    "\n",
    "* Now, we can extend the above idea on a complex scene, let's say for example, a system containing a potted flower. This system can be broken down into smaller systems as pot, stem, leaves and bloom\n",
    "\n",
    "* Further, taking say the bloom, it can be made up different petals of different shapes and sizes\n",
    "\n",
    "* Even further, each petal can be created using simple geometrical shapes like circles, ellipses, etc. in its own natural coordinate system centred at Origin $(0, 0)$\n",
    "\n",
    "* After that, merging things step-by-step, we will first apply `Modeling transformations` on each of the petals to make the bloom overall\n",
    "\n",
    "* Further, we can apply modeling transformations on the whole bloom, stem, leaves as well as the pot and merge them to make the flower\n",
    "\n",
    "* And at the end, we can apply modeling transformation on the complete flower to places it into the designed scene with background"
   ]
  },
  {
   "attachments": {},
   "cell_type": "markdown",
   "metadata": {},
   "source": [
    "<p style=\"color:#73fc03; font-size:40px;\">Example</p>"
   ]
  },
  {
   "attachments": {},
   "cell_type": "markdown",
   "metadata": {},
   "source": []
  }
 ],
 "metadata": {
  "kernelspec": {
   "display_name": "Python 3",
   "language": "python",
   "name": "python3"
  },
  "language_info": {
   "codemirror_mode": {
    "name": "ipython",
    "version": 3
   },
   "file_extension": ".py",
   "mimetype": "text/x-python",
   "name": "python",
   "nbconvert_exporter": "python",
   "pygments_lexer": "ipython3",
   "version": "3.10.4"
  },
  "orig_nbformat": 4
 },
 "nbformat": 4,
 "nbformat_minor": 2
}
