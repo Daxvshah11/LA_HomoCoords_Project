{
 "cells": [
  {
   "attachments": {},
   "cell_type": "markdown",
   "metadata": {
    "tags": []
   },
   "source": [
    "HOMOGENOUS CO-ORDINATES"
   ]
  },
  {
   "attachments": {},
   "cell_type": "markdown",
   "metadata": {},
   "source": [
    "    Homogenous co-ordinates are a mathematical representation used in projective geometry & Computer Graphics.\n",
    "\n",
    "    They provide a way to represent points, vectors & transformations in a uniform manner\n",
    "\n",
    "    We extend the Cartesian system by using an additional coordinate usually denoted as \"w\"\n",
    "\n",
    "    A point in Homogenous system is represented as (x, y, z, w) where (x, y, z) are the cartesian coordinates and (w) is called the \"Scaling factor\""
   ]
  },
  {
   "attachments": {},
   "cell_type": "markdown",
   "metadata": {},
   "source": [
    "GEOMETRIC TRANSFORMATIONS"
   ]
  },
  {
   "attachments": {},
   "cell_type": "markdown",
   "metadata": {},
   "source": [
    "    There are several types of geometric transformations:\n",
    "        -> Translation\n",
    "        -> Rotation\n",
    "        -> Scaling\n",
    "        -> Shearing\n",
    "        -> Reflection\n",
    "        -> Projection\n",
    "\n",
    "    \n",
    "    We will be particularly discussing about translation, rotation and scaling"
   ]
  },
  {
   "attachments": {},
   "cell_type": "markdown",
   "metadata": {},
   "source": []
  }
 ],
 "metadata": {
  "language_info": {
   "name": "python"
  },
  "orig_nbformat": 4
 },
 "nbformat": 4,
 "nbformat_minor": 2
}
